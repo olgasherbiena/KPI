{
  "cells": [
    {
      "cell_type": "markdown",
      "metadata": {
        "id": "view-in-github",
        "colab_type": "text"
      },
      "source": [
        "<a href=\"https://colab.research.google.com/github/olgasherbiena/KPI/blob/MMSP/lisagu_figurs.ipynb\" target=\"_parent\"><img src=\"https://colab.research.google.com/assets/colab-badge.svg\" alt=\"Open In Colab\"/></a>"
      ]
    },
    {
      "cell_type": "markdown",
      "metadata": {
        "id": "RmTs42xetsYf"
      },
      "source": [
        "## Intro to NumPy\n",
        "NumPy is a library for the Python programming language, adding support for large, multi-dimensional arrays and matrices, along with a large collection of high-level mathematical functions to operate on these arrays (https://en.wikipedia.org/wiki/NumPy).\n",
        "\n",
        "Numpy is incredibly fast, as it has bindings to C libraries."
      ]
    },
    {
      "cell_type": "code",
      "execution_count": null,
      "metadata": {
        "id": "_oPphxTXtsYg"
      },
      "outputs": [],
      "source": [
        "import numpy as np"
      ]
    },
    {
      "cell_type": "markdown",
      "metadata": {
        "id": "iUuIcFbFtsYh"
      },
      "source": [
        "## Creation of NumPy array\n",
        "### From a list"
      ]
    },
    {
      "cell_type": "code",
      "execution_count": null,
      "metadata": {
        "id": "FrEmDz11tsYh",
        "colab": {
          "base_uri": "https://localhost:8080/",
          "height": 158
        },
        "outputId": "0f4d402e-6cd4-4ac4-ed47-407b001948e1"
      },
      "outputs": [
        {
          "output_type": "error",
          "ename": "NameError",
          "evalue": "name 'np' is not defined",
          "traceback": [
            "\u001b[0;31m---------------------------------------------------------------------------\u001b[0m",
            "\u001b[0;31mNameError\u001b[0m                                 Traceback (most recent call last)",
            "\u001b[0;32m/tmp/ipython-input-754810472.py\u001b[0m in \u001b[0;36m<cell line: 0>\u001b[0;34m()\u001b[0m\n\u001b[1;32m      1\u001b[0m \u001b[0ma_list\u001b[0m \u001b[0;34m=\u001b[0m \u001b[0;34m[\u001b[0m\u001b[0;36m1\u001b[0m\u001b[0;34m,\u001b[0m \u001b[0;36m2\u001b[0m\u001b[0;34m,\u001b[0m \u001b[0;36m3\u001b[0m\u001b[0;34m]\u001b[0m\u001b[0;34m\u001b[0m\u001b[0;34m\u001b[0m\u001b[0m\n\u001b[0;32m----> 2\u001b[0;31m \u001b[0ma_array\u001b[0m \u001b[0;34m=\u001b[0m \u001b[0mnp\u001b[0m\u001b[0;34m.\u001b[0m\u001b[0marray\u001b[0m\u001b[0;34m(\u001b[0m\u001b[0ma_list\u001b[0m\u001b[0;34m)\u001b[0m\u001b[0;34m\u001b[0m\u001b[0;34m\u001b[0m\u001b[0m\n\u001b[0m",
            "\u001b[0;31mNameError\u001b[0m: name 'np' is not defined"
          ]
        }
      ],
      "source": [
        "a_list = [1, 2, 3]\n",
        "a_array = np.array(a_list)"
      ]
    },
    {
      "cell_type": "code",
      "execution_count": null,
      "metadata": {
        "id": "60ej9YrptsYh",
        "outputId": "aa5d00da-39e6-4bd9-d67d-36a9d2b13d13",
        "colab": {
          "base_uri": "https://localhost:8080/"
        }
      },
      "outputs": [
        {
          "output_type": "stream",
          "name": "stdout",
          "text": [
            "<class 'list'>\n",
            "<class 'numpy.ndarray'>\n"
          ]
        }
      ],
      "source": [
        "print(type(a_list))\n",
        "print(type(a_array))"
      ]
    },
    {
      "cell_type": "code",
      "execution_count": null,
      "metadata": {
        "id": "rJhHjPc9tsYh"
      },
      "outputs": [],
      "source": [
        "matrix = [[1,2,3],[4,5,6],[7,8,9]]\n",
        "a_2D = np.array(matrix)"
      ]
    },
    {
      "cell_type": "markdown",
      "metadata": {
        "id": "Qd2bgxIMtsYh"
      },
      "source": [
        "### Using built-in methods"
      ]
    },
    {
      "cell_type": "code",
      "execution_count": null,
      "metadata": {
        "id": "0EsxGQ2ytsYi",
        "outputId": "1f2c1428-13cf-4a8e-e0bf-99fdc50ccc08",
        "colab": {
          "base_uri": "https://localhost:8080/"
        }
      },
      "outputs": [
        {
          "output_type": "execute_result",
          "data": {
            "text/plain": [
              "array([0, 1, 2, 3, 4, 5, 6, 7, 8, 9])"
            ]
          },
          "metadata": {},
          "execution_count": 5
        }
      ],
      "source": [
        "np.arange(0, 10)"
      ]
    },
    {
      "cell_type": "code",
      "execution_count": null,
      "metadata": {
        "id": "LiOt9rhNtsYi",
        "outputId": "524fde7e-34a7-4d21-c89a-0e0c03db059c",
        "colab": {
          "base_uri": "https://localhost:8080/"
        }
      },
      "outputs": [
        {
          "output_type": "execute_result",
          "data": {
            "text/plain": [
              "array([0, 2, 4, 6, 8])"
            ]
          },
          "metadata": {},
          "execution_count": 6
        }
      ],
      "source": [
        "np.arange(0, 10, 2) # np.arange(start, stop, step)"
      ]
    },
    {
      "cell_type": "code",
      "execution_count": null,
      "metadata": {
        "id": "MXZBVZa8tsYi",
        "outputId": "78c290b5-0f29-457d-91de-c0f576e0c9a3",
        "colab": {
          "base_uri": "https://localhost:8080/"
        }
      },
      "outputs": [
        {
          "output_type": "execute_result",
          "data": {
            "text/plain": [
              "array([0., 0., 0.])"
            ]
          },
          "metadata": {},
          "execution_count": 7
        }
      ],
      "source": [
        "np.zeros(3)"
      ]
    },
    {
      "cell_type": "code",
      "execution_count": null,
      "metadata": {
        "id": "y4KsymNstsYi",
        "outputId": "d5679662-4d24-4a86-e662-34b5de225f7e",
        "colab": {
          "base_uri": "https://localhost:8080/"
        }
      },
      "outputs": [
        {
          "output_type": "execute_result",
          "data": {
            "text/plain": [
              "array([[0., 0., 0.],\n",
              "       [0., 0., 0.],\n",
              "       [0., 0., 0.]])"
            ]
          },
          "metadata": {},
          "execution_count": 8
        }
      ],
      "source": [
        "np.zeros((3, 3))"
      ]
    },
    {
      "cell_type": "code",
      "execution_count": null,
      "metadata": {
        "id": "5dnyTXBetsYi",
        "outputId": "e768f4a2-a50e-4f17-a491-f1b40e8c155b",
        "colab": {
          "base_uri": "https://localhost:8080/"
        }
      },
      "outputs": [
        {
          "output_type": "execute_result",
          "data": {
            "text/plain": [
              "array([ 0.        ,  0.52631579,  1.05263158,  1.57894737,  2.10526316,\n",
              "        2.63157895,  3.15789474,  3.68421053,  4.21052632,  4.73684211,\n",
              "        5.26315789,  5.78947368,  6.31578947,  6.84210526,  7.36842105,\n",
              "        7.89473684,  8.42105263,  8.94736842,  9.47368421, 10.        ])"
            ]
          },
          "metadata": {},
          "execution_count": 9
        }
      ],
      "source": [
        "np.linspace(0, 10, 20) # np.linspace(start, stop, num=50)"
      ]
    },
    {
      "cell_type": "markdown",
      "metadata": {
        "id": "Cc9ptUaXtsYi"
      },
      "source": [
        "## Random\n",
        "\n",
        "### uniform\n",
        "Return an array of the given shape with random samples from a uniform distribution"
      ]
    },
    {
      "cell_type": "code",
      "execution_count": null,
      "metadata": {
        "id": "EV5f8fuztsYj",
        "outputId": "39896224-7cad-4cd2-8eb1-8c04665ffc3e",
        "colab": {
          "base_uri": "https://localhost:8080/"
        }
      },
      "outputs": [
        {
          "output_type": "execute_result",
          "data": {
            "text/plain": [
              "array([0.24015207, 0.07544111, 0.96789315, 0.32081534, 0.34331033])"
            ]
          },
          "metadata": {},
          "execution_count": 10
        }
      ],
      "source": [
        "np.random.uniform(0, 1, 5) # (low, high, size)"
      ]
    },
    {
      "cell_type": "markdown",
      "metadata": {
        "id": "pfxvpF9htsYj"
      },
      "source": [
        "### randn\n",
        "Return samples from the “standard normal” distribution."
      ]
    },
    {
      "cell_type": "code",
      "execution_count": null,
      "metadata": {
        "id": "Y0NRlxYgtsYj",
        "outputId": "af190e2e-7950-4840-b903-09860fd78662",
        "colab": {
          "base_uri": "https://localhost:8080/"
        }
      },
      "outputs": [
        {
          "output_type": "execute_result",
          "data": {
            "text/plain": [
              "array([[-0.12169145, -1.0715006 ],\n",
              "       [-0.87798852,  1.34773534]])"
            ]
          },
          "metadata": {},
          "execution_count": 11
        }
      ],
      "source": [
        "np.random.randn(2,2) # standard normal (Gaussian) distribution of mean 0 and variance 1"
      ]
    },
    {
      "cell_type": "markdown",
      "metadata": {
        "id": "s0ysJmw-tsYj"
      },
      "source": [
        "### normal"
      ]
    },
    {
      "cell_type": "code",
      "execution_count": null,
      "metadata": {
        "id": "JpGL7lwBtsYj",
        "outputId": "9e3f7000-0532-4a28-8415-d70c15e07835",
        "colab": {
          "base_uri": "https://localhost:8080/"
        }
      },
      "outputs": [
        {
          "output_type": "execute_result",
          "data": {
            "text/plain": [
              "array([[0.2944109 , 0.50597265],\n",
              "       [0.4838797 , 1.1399829 ],\n",
              "       [1.17712201, 1.11682474]])"
            ]
          },
          "metadata": {},
          "execution_count": 12
        }
      ],
      "source": [
        "mu, sigma = 1, 0.5 # mean and standard deviation\n",
        "np.random.normal(mu, sigma, size = (3, 2))"
      ]
    },
    {
      "cell_type": "markdown",
      "metadata": {
        "id": "B8Q8Q5M8tsYj"
      },
      "source": [
        "### multivariate normal"
      ]
    },
    {
      "cell_type": "code",
      "execution_count": null,
      "metadata": {
        "id": "InQOE6lDtsYj",
        "outputId": "0e7a3742-4b11-4617-82ef-c032c27d9f2c",
        "colab": {
          "base_uri": "https://localhost:8080/"
        }
      },
      "outputs": [
        {
          "output_type": "execute_result",
          "data": {
            "text/plain": [
              "array([[[1.22072892, 2.73542753],\n",
              "        [1.48960286, 1.71097724]],\n",
              "\n",
              "       [[1.84969535, 1.53060501],\n",
              "        [0.81885285, 1.96233603]],\n",
              "\n",
              "       [[1.37394612, 4.30925623],\n",
              "        [2.17860549, 2.32785531]]])"
            ]
          },
          "metadata": {},
          "execution_count": 13
        }
      ],
      "source": [
        "mean = [1, 2]\n",
        "cov = [[1, 0], [0, 1]]\n",
        "np.random.multivariate_normal(mean, cov, size= (3, 2))"
      ]
    },
    {
      "cell_type": "markdown",
      "metadata": {
        "id": "PNZXGYU3tsYk"
      },
      "source": [
        "### randint\n",
        "Return random integers"
      ]
    },
    {
      "cell_type": "code",
      "execution_count": null,
      "metadata": {
        "id": "Uzu9z7tttsYk",
        "outputId": "fef98b01-0b77-4941-9dd3-35b42d7fc035",
        "colab": {
          "base_uri": "https://localhost:8080/"
        }
      },
      "outputs": [
        {
          "output_type": "execute_result",
          "data": {
            "text/plain": [
              "array([14, 47, 88, 89, 63])"
            ]
          },
          "metadata": {},
          "execution_count": 14
        }
      ],
      "source": [
        "np.random.randint(1, 100, 5) # randint(low, high=None, size=None)"
      ]
    },
    {
      "cell_type": "markdown",
      "metadata": {
        "id": "PUpB2CrvtsYk"
      },
      "source": [
        "### seed()\n",
        "The seed() method is used to initialize the random number generator."
      ]
    },
    {
      "cell_type": "code",
      "execution_count": null,
      "metadata": {
        "id": "8JYsMpzutsYk"
      },
      "outputs": [],
      "source": [
        "np.random.seed(0)"
      ]
    },
    {
      "cell_type": "markdown",
      "metadata": {
        "id": "GyiOOBu3tsYk"
      },
      "source": [
        "### Operations"
      ]
    },
    {
      "cell_type": "code",
      "execution_count": null,
      "metadata": {
        "id": "HkqiwOiMtsYk",
        "outputId": "35b14ffd-2896-45e9-967d-14ad6240bba6",
        "colab": {
          "base_uri": "https://localhost:8080/"
        }
      },
      "outputs": [
        {
          "output_type": "stream",
          "name": "stdout",
          "text": [
            "arr: \n",
            "[0 1 2 3 4 5 6 7 8 9]\n",
            "arr_r: \n",
            "[[0 1 2 3 4]\n",
            " [5 6 7 8 9]]\n"
          ]
        }
      ],
      "source": [
        "arr = np.arange(0, 10)\n",
        "arr_r = arr.reshape(2, 5)\n",
        "print('arr: ')\n",
        "print(arr)\n",
        "print('arr_r: ')\n",
        "print(arr_r)"
      ]
    },
    {
      "cell_type": "code",
      "execution_count": null,
      "metadata": {
        "id": "Ydj2hJIotsYk",
        "outputId": "262bfff6-19c7-47c7-aacf-936f93116589",
        "colab": {
          "base_uri": "https://localhost:8080/"
        }
      },
      "outputs": [
        {
          "output_type": "stream",
          "name": "stdout",
          "text": [
            "[45 48 65 68 68 10 84 22 37 88]\n"
          ]
        }
      ],
      "source": [
        "my_arr = np.random.randint(1, 100, 10)\n",
        "print(my_arr)"
      ]
    },
    {
      "cell_type": "code",
      "execution_count": null,
      "metadata": {
        "id": "IyhS2eCwtsYk",
        "outputId": "3fcf4cb1-e8c4-40d2-9051-1bd48ae2763d",
        "colab": {
          "base_uri": "https://localhost:8080/"
        }
      },
      "outputs": [
        {
          "output_type": "execute_result",
          "data": {
            "text/plain": [
              "np.int64(88)"
            ]
          },
          "metadata": {},
          "execution_count": 18
        }
      ],
      "source": [
        "my_arr.max()"
      ]
    },
    {
      "cell_type": "code",
      "execution_count": null,
      "metadata": {
        "id": "MSciGgJ_tsYk",
        "outputId": "7c741035-2bd1-45cc-a648-e6607c1fe60b",
        "colab": {
          "base_uri": "https://localhost:8080/"
        }
      },
      "outputs": [
        {
          "output_type": "execute_result",
          "data": {
            "text/plain": [
              "np.int64(9)"
            ]
          },
          "metadata": {},
          "execution_count": 19
        }
      ],
      "source": [
        "my_arr.argmax()"
      ]
    },
    {
      "cell_type": "code",
      "execution_count": null,
      "metadata": {
        "id": "ln-dvLTAtsYk"
      },
      "outputs": [],
      "source": [
        "arr_1 = np.array([1, 2, 3])\n",
        "arr_2 = np.array([4, 5, 6])"
      ]
    },
    {
      "cell_type": "code",
      "execution_count": null,
      "metadata": {
        "id": "e1tOTtirtsYl",
        "outputId": "685bb7cd-09e9-48e5-87cb-042bb0d4a06d",
        "colab": {
          "base_uri": "https://localhost:8080/"
        }
      },
      "outputs": [
        {
          "output_type": "execute_result",
          "data": {
            "text/plain": [
              "array([5, 7, 9])"
            ]
          },
          "metadata": {},
          "execution_count": 21
        }
      ],
      "source": [
        "arr_1 + arr_2"
      ]
    },
    {
      "cell_type": "code",
      "execution_count": null,
      "metadata": {
        "id": "tvkusKhjtsYl",
        "outputId": "1e4b62d3-eb79-41bc-926a-fed158e30859",
        "colab": {
          "base_uri": "https://localhost:8080/"
        }
      },
      "outputs": [
        {
          "output_type": "execute_result",
          "data": {
            "text/plain": [
              "array([ 4, 10, 18])"
            ]
          },
          "metadata": {},
          "execution_count": 22
        }
      ],
      "source": [
        "arr_1 * arr_2"
      ]
    },
    {
      "cell_type": "code",
      "execution_count": null,
      "metadata": {
        "id": "rwrjT__QtsYl",
        "outputId": "af030121-defe-4b32-9128-0818c7576bfb",
        "colab": {
          "base_uri": "https://localhost:8080/"
        }
      },
      "outputs": [
        {
          "output_type": "execute_result",
          "data": {
            "text/plain": [
              "array([ 2.71828183,  7.3890561 , 20.08553692])"
            ]
          },
          "metadata": {},
          "execution_count": 23
        }
      ],
      "source": [
        "np.exp(arr_1)"
      ]
    },
    {
      "cell_type": "code",
      "execution_count": null,
      "metadata": {
        "id": "I1KWq01StsYl",
        "outputId": "ec678b33-43f4-4a80-f1d6-02be21578014",
        "colab": {
          "base_uri": "https://localhost:8080/"
        }
      },
      "outputs": [
        {
          "output_type": "execute_result",
          "data": {
            "text/plain": [
              "array([0.        , 0.69314718, 1.09861229])"
            ]
          },
          "metadata": {},
          "execution_count": 24
        }
      ],
      "source": [
        "np.log(arr_1)"
      ]
    },
    {
      "cell_type": "markdown",
      "source": [
        "Performance: NumPy vs Python"
      ],
      "metadata": {
        "id": "mh2bwrI1wdaa"
      }
    },
    {
      "cell_type": "code",
      "execution_count": null,
      "metadata": {
        "id": "mB_yJQTItsYl",
        "colab": {
          "base_uri": "https://localhost:8080/"
        },
        "outputId": "31d89fca-b53e-4ef6-b925-7e77c600486e"
      },
      "outputs": [
        {
          "output_type": "stream",
          "name": "stdout",
          "text": [
            "Pure Python: 0.11652708053588867\n",
            "NumPy: 0.005560874938964844\n"
          ]
        }
      ],
      "source": [
        "import time\n",
        "size = 1000000\n",
        "a = list(range(size))\n",
        "b = list(range(size))\n",
        "\n",
        "start = time.time()\n",
        "c = [x + y for x, y in zip(a, b)]\n",
        "print(\"Pure Python:\", time.time() - start)\n",
        "\n",
        "a_np = np.arange(size)\n",
        "b_np = np.arange(size)\n",
        "\n",
        "start = time.time()\n",
        "c_np = a_np + b_np\n",
        "print(\"NumPy:\", time.time() - start)\n"
      ]
    },
    {
      "cell_type": "markdown",
      "source": [
        "# Aggregation in NumPy\n",
        "\n",
        "Aggregation functions allow you to summarize data along specific dimensions (axes). Examples include sum, mean, std, min, max, etc."
      ],
      "metadata": {
        "id": "-WYU0hC-yr-4"
      }
    },
    {
      "cell_type": "code",
      "source": [
        "# Basic aggreration\n",
        "\n",
        "data = np.array([[1, 2], [3, 4]])\n",
        "\n",
        "# Sum of all elements\n",
        "print(np.sum(data))        # 10\n",
        "\n",
        "# Mean of all elements\n",
        "print(np.mean(data))       # 2.5\n"
      ],
      "metadata": {
        "colab": {
          "base_uri": "https://localhost:8080/"
        },
        "id": "CP_Y1bzhy2vQ",
        "outputId": "60010446-a1a0-4eec-8ea4-0adff2753e6a"
      },
      "execution_count": null,
      "outputs": [
        {
          "output_type": "stream",
          "name": "stdout",
          "text": [
            "10\n",
            "2.5\n"
          ]
        }
      ]
    },
    {
      "cell_type": "code",
      "source": [
        "# Aggregation along axes\n",
        "#Use the axis argument to control the dimension along which the function operates:\n",
        "\n",
        "# Sum across rows (axis=1)\n",
        "print(np.sum(data, axis=1))  # [3 7]  row-wise (across each row)\n",
        "\n",
        "# Sum down columns (axis=0)\n",
        "print(np.sum(data, axis=0))  # [4 6] column-wise (down each column)"
      ],
      "metadata": {
        "colab": {
          "base_uri": "https://localhost:8080/"
        },
        "id": "bqWLkbxky_qI",
        "outputId": "4f68499f-160b-48db-b77f-b93ece0016d1"
      },
      "execution_count": null,
      "outputs": [
        {
          "output_type": "stream",
          "name": "stdout",
          "text": [
            "[3 7]\n",
            "[4 6]\n"
          ]
        }
      ]
    },
    {
      "cell_type": "code",
      "source": [
        "arr = np.random.randint(0, 100, size=(4, 5))\n",
        "\n",
        "print(\"Min:\", np.min(arr))\n",
        "print(\"Mean:\", np.mean(arr))\n",
        "print(\"Standard deviation:\", np.std(arr))\n"
      ],
      "metadata": {
        "colab": {
          "base_uri": "https://localhost:8080/"
        },
        "id": "81jeNzUCzhCI",
        "outputId": "af1bdd46-c3c6-4743-b898-beae3858e3be"
      },
      "execution_count": null,
      "outputs": [
        {
          "output_type": "stream",
          "name": "stdout",
          "text": [
            "Min: 9\n",
            "Mean: 59.5\n",
            "Standard deviation: 26.284025566872362\n"
          ]
        }
      ]
    },
    {
      "cell_type": "code",
      "source": [
        "#Useful tip: Keep dimensions with keepdims=True\n",
        "\n",
        "arr = np.random.rand(3, 4)\n",
        "mean_per_row = np.mean(arr, axis=1, keepdims=True)  # shape (3, 1)\n",
        "centered = arr - mean_per_row  # broadcast subtraction\n"
      ],
      "metadata": {
        "id": "E7P0nTozz-dp"
      },
      "execution_count": null,
      "outputs": []
    }
  ],
  "metadata": {
    "kernelspec": {
      "display_name": "Python 3",
      "language": "python",
      "name": "python3"
    },
    "language_info": {
      "codemirror_mode": {
        "name": "ipython",
        "version": 3
      },
      "file_extension": ".py",
      "mimetype": "text/x-python",
      "name": "python",
      "nbconvert_exporter": "python",
      "pygments_lexer": "ipython3",
      "version": "3.8.8"
    },
    "colab": {
      "provenance": [],
      "include_colab_link": true
    }
  },
  "nbformat": 4,
  "nbformat_minor": 0
}